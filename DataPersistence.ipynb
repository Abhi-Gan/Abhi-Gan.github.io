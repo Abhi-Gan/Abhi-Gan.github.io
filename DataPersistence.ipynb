{
  "nbformat": 4,
  "nbformat_minor": 0,
  "metadata": {
    "colab": {
      "provenance": [],
      "toc_visible": true,
      "authorship_tag": "ABX9TyP8gWbBEDYv0IfamJPUKSca",
      "include_colab_link": true
    },
    "kernelspec": {
      "name": "python3",
      "display_name": "Python 3"
    },
    "language_info": {
      "name": "python"
    }
  },
  "cells": [
    {
      "cell_type": "markdown",
      "metadata": {
        "id": "view-in-github",
        "colab_type": "text"
      },
      "source": [
        "<a href=\"https://colab.research.google.com/github/Abhi-Gan/Abhi-Gan.github.io/blob/main/DataPersistence.ipynb\" target=\"_parent\"><img src=\"https://colab.research.google.com/assets/colab-badge.svg\" alt=\"Open In Colab\"/></a>"
      ]
    },
    {
      "cell_type": "markdown",
      "source": [
        "Google Colab is a good choice but files saved disappear later. So how do we fix this?"
      ],
      "metadata": {
        "id": "tnXgmNE1HWkS"
      }
    },
    {
      "cell_type": "code",
      "execution_count": 1,
      "metadata": {
        "id": "JKpnKPAQHTzS",
        "colab": {
          "base_uri": "https://localhost:8080/"
        },
        "outputId": "b8670482-db24-4fa1-bc8b-5f1317d5fadb"
      },
      "outputs": [
        {
          "output_type": "stream",
          "name": "stdout",
          "text": [
            "hi\n"
          ]
        }
      ],
      "source": [
        "# perhaps we can fix with colab <--> github.\n",
        "# github can have the repo. Colab has the code. Need to push in order to persist files.\n",
        "print(\"hi\")"
      ]
    }
  ]
}